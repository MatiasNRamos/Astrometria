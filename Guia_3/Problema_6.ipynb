{
 "cells": [
  {
   "cell_type": "markdown",
   "metadata": {},
   "source": [
    "Este programa utiliza comandos SQL para obtener datos de exoplanets.eu, luego hace una comparación entre algunas técnicas\n",
    "\n",
    "------------\n",
    "\n",
    "Un analisis previo consistió en traer todas las columnas y buscar las que necesitaba. Para eso limité el período a que sea menor a 3 dias (arbitrario). Ese análisis no lo dejo explícito, sólo esta línea comentándolo.\n",
    "El query era: query = \"SELECT * FROM exoplanet.epn_core WHERE period<3\"\n",
    "\n",
    "Luego hice un query ya trayendo las columnas que necesito y también limitando un poco los datos (periodos no negativos, masas menores a ~15 Mjup, etc\n",
    "\n",
    "Depués separé los datos por técnica y los grafique. Por último hice una comparación simple de las técnicas para ver si existe un sesgo en la media de las masas y período"
   ]
  },
  {
   "cell_type": "code",
   "execution_count": 1,
   "metadata": {},
   "outputs": [
    {
     "name": "stderr",
     "output_type": "stream",
     "text": [
      "In /home/matt/anaconda3/lib/python3.7/site-packages/matplotlib/mpl-data/stylelib/_classic_test.mplstyle: \n",
      "The text.latex.preview rcparam was deprecated in Matplotlib 3.3 and will be removed two minor releases later.\n",
      "In /home/matt/anaconda3/lib/python3.7/site-packages/matplotlib/mpl-data/stylelib/_classic_test.mplstyle: \n",
      "The mathtext.fallback_to_cm rcparam was deprecated in Matplotlib 3.3 and will be removed two minor releases later.\n",
      "In /home/matt/anaconda3/lib/python3.7/site-packages/matplotlib/mpl-data/stylelib/_classic_test.mplstyle: Support for setting the 'mathtext.fallback_to_cm' rcParam is deprecated since 3.3 and will be removed two minor releases later; use 'mathtext.fallback : 'cm' instead.\n",
      "In /home/matt/anaconda3/lib/python3.7/site-packages/matplotlib/mpl-data/stylelib/_classic_test.mplstyle: \n",
      "The validate_bool_maybe_none function was deprecated in Matplotlib 3.3 and will be removed two minor releases later.\n",
      "In /home/matt/anaconda3/lib/python3.7/site-packages/matplotlib/mpl-data/stylelib/_classic_test.mplstyle: \n",
      "The savefig.jpeg_quality rcparam was deprecated in Matplotlib 3.3 and will be removed two minor releases later.\n",
      "In /home/matt/anaconda3/lib/python3.7/site-packages/matplotlib/mpl-data/stylelib/_classic_test.mplstyle: \n",
      "The keymap.all_axes rcparam was deprecated in Matplotlib 3.3 and will be removed two minor releases later.\n",
      "In /home/matt/anaconda3/lib/python3.7/site-packages/matplotlib/mpl-data/stylelib/_classic_test.mplstyle: \n",
      "The animation.avconv_path rcparam was deprecated in Matplotlib 3.3 and will be removed two minor releases later.\n",
      "In /home/matt/anaconda3/lib/python3.7/site-packages/matplotlib/mpl-data/stylelib/_classic_test.mplstyle: \n",
      "The animation.avconv_args rcparam was deprecated in Matplotlib 3.3 and will be removed two minor releases later.\n"
     ]
    }
   ],
   "source": [
    "%matplotlib inline \n",
    "import numpy as np \n",
    "import matplotlib.pyplot as plt\n",
    "import pyvo\n",
    "# Estilo de gráficos\n",
    "plt.style.use('dark_background')\n",
    "# Servicio pyvo\n",
    "service = pyvo.dal.TAPService(\"http://voparis-tap-planeto.obspm.fr/tap\")"
   ]
  },
  {
   "cell_type": "markdown",
   "metadata": {},
   "source": [
    "Consideraré planetas y no enanas marrones => mass < ~15Mjup y filtraré los periodos para que no sean negativos"
   ]
  },
  {
   "cell_type": "code",
   "execution_count": 2,
   "metadata": {},
   "outputs": [],
   "source": [
    "query = \"\"\"SELECT period, mass, star_spec_type, detection_type\n",
    "FROM exoplanet.epn_core\n",
    "WHERE mass<15 AND period>0 AND star_distance>0\"\"\""
   ]
  },
  {
   "cell_type": "code",
   "execution_count": 3,
   "metadata": {},
   "outputs": [],
   "source": [
    "res = service.search(query);"
   ]
  },
  {
   "cell_type": "code",
   "execution_count": 4,
   "metadata": {},
   "outputs": [
    {
     "name": "stderr",
     "output_type": "stream",
     "text": [
      "WARNING: AstropyDeprecationWarning: Using the table property is deprecated. Please use se to_table() instead. [pyvo.dal.query]\n"
     ]
    },
    {
     "data": {
      "text/html": [
       "<i>Table length=2</i>\n",
       "<table id=\"table139911654290192\" class=\"table-striped table-bordered table-condensed\">\n",
       "<thead><tr><th>period</th><th>mass</th><th>star_spec_type</th><th>detection_type</th></tr></thead>\n",
       "<thead><tr><th>d</th><th>&apos;jupiterMass&apos;</th><th></th><th></th></tr></thead>\n",
       "<thead><tr><th>float64</th><th>float64</th><th>object</th><th>object</th></tr></thead>\n",
       "<tr><td>10260.0</td><td>2.6</td><td>F0IV</td><td>Imaging</td></tr>\n",
       "<tr><td>4.2308</td><td>0.47</td><td>G2 IV</td><td>Radial Velocity</td></tr>\n",
       "</table>"
      ],
      "text/plain": [
       "<Table length=2>\n",
       " period      mass     star_spec_type  detection_type\n",
       "   d    'jupiterMass'                               \n",
       "float64    float64        object          object    \n",
       "------- ------------- -------------- ---------------\n",
       "10260.0           2.6           F0IV         Imaging\n",
       " 4.2308          0.47          G2 IV Radial Velocity"
      ]
     },
     "execution_count": 4,
     "metadata": {},
     "output_type": "execute_result"
    }
   ],
   "source": [
    "# Veo el primer planeta de los resultados\n",
    "res.table[:2]"
   ]
  },
  {
   "cell_type": "code",
   "execution_count": 5,
   "metadata": {},
   "outputs": [],
   "source": [
    "# Obtengo los valores de las columnas en listas con un loop\n",
    "size = np.shape(res) # size[0] es la cantidad de exoplanetas que tengo\n",
    "P = [] # Períodos\n",
    "Mass = [] # Masas\n",
    "Spec = [] # Tipo espectral\n",
    "Tec = [] # Técnica de detección\n",
    "\n",
    "ij = 0\n",
    "while ij < size[0]:\n",
    "    P.append( res.getvalue(name='period', index=ij) )\n",
    "    Mass.append( res.getvalue(name='mass', index=ij) )\n",
    "    Spec.append( res.getvalue(name='star_spec_type', index=ij) )\n",
    "    Tec.append( res.getvalue(name='detection_type', index=ij) )\n",
    "    ij = ij + 1"
   ]
  },
  {
   "cell_type": "markdown",
   "metadata": {},
   "source": [
    "Para simplicidad sólo consideraré algunas técnicas y no todas, armo listas con las posiciones de los planetas en función de la técnica y luego uso la función Clasif() para clasificarlos:"
   ]
  },
  {
   "cell_type": "code",
   "execution_count": 6,
   "metadata": {},
   "outputs": [],
   "source": [
    "VR = []\n",
    "Tran = []\n",
    "TTV = []\n",
    "Pulsar = []\n",
    "ij = 0\n",
    "while ij<size[0]:\n",
    "    if Tec[ij] == 'Radial Velocity': # CUIDADO, aveces se usa : b'Radial Velocity'\n",
    "        VR.append(ij)                # Hay que chequear con np.unique(Tec)\n",
    "    if Tec[ij] == 'Primary Transit':\n",
    "        Tran.append(ij)\n",
    "    if Tec[ij] == 'TTV':\n",
    "        TTV.append(ij)\n",
    "    if Tec[ij] == 'Pulsar':\n",
    "        Pulsar.append(ij)\n",
    "    ij = ij + 1"
   ]
  },
  {
   "cell_type": "code",
   "execution_count": 7,
   "metadata": {},
   "outputs": [],
   "source": [
    "def Clasif(X):\n",
    "    \"\"\" Devuelve el periodo y masa para los planetas en función de su técnica de detección\n",
    "    \n",
    "    Parameters\n",
    "    ----------\n",
    "    X : list\n",
    "        Lista con valores enteros que localizan a la técnica asociada al arreglo X. \n",
    "        Por ej: X:VR tendrá los valores para las posiciones de todos los planetas que fueron\n",
    "        detectados por esa técnica. Si tengo 3 planetas y los dos últimos fueron detectados\n",
    "        por VR => X = [1,2] ( NO es X=[0,1,2] )\n",
    "        \n",
    "    Returns\n",
    "    -------\n",
    "    Per, Masa : list, list\n",
    "        Listas con los parámetros asociados a la técnica requerida\n",
    "        \n",
    "    \"\"\"\n",
    "    Per = []\n",
    "    Masa = []\n",
    "    for ij in X:\n",
    "        Per.append(P[ij])\n",
    "        Masa.append(Mass[ij])\n",
    "    return (Per, Masa)"
   ]
  },
  {
   "cell_type": "code",
   "execution_count": 8,
   "metadata": {},
   "outputs": [
    {
     "data": {
      "image/png": "[encoded data removed]",
      "text/plain": [
       "<Figure size 864x432 with 1 Axes>"
      ]
     },
     "metadata": {
      "needs_background": "dark"
     },
     "output_type": "display_data"
    }
   ],
   "source": [
    "fig, ax = plt.subplots(1, 1, figsize = (12,6))\n",
    "\n",
    "ax.scatter(Clasif(VR)[0], Clasif(VR)[1], color='red', zorder=0, marker='v', s=60,\n",
    "          label='VR')\n",
    "ax.scatter(Clasif(Tran)[0], Clasif(Tran)[1], color='yellow', zorder=10, alpha=0.3, s=5,\n",
    "          label='Tránsito')\n",
    "ax.scatter(Clasif(TTV)[0], Clasif(TTV)[1], color='green', marker='d', s=50,\n",
    "          label='TTV')\n",
    "ax.scatter(Clasif(Pulsar)[0], Clasif(Pulsar)[1], color='cyan', marker='x',\n",
    "          label='Pulsar')\n",
    "\n",
    "ax.set_xscale('log')\n",
    "ax.set_title('Masa vs periodo', fontsize=20)\n",
    "ax.set_ylabel('Masa [MJup]', fontsize=20)\n",
    "ax.set_xlabel('Periodo [d]', fontsize=20);\n",
    "ax.legend(fontsize=15, loc=4);"
   ]
  },
  {
   "cell_type": "markdown",
   "metadata": {},
   "source": [
    "Comparación de técnicas.\n",
    "\n",
    "---------\n",
    "\n",
    "Como las distribuciones de masa y período para c/u de las técnicas no son gaussianas, no se me ocurre cómo calcular un intervalo de confianza para hacer una prueba de hipótesis. Entonces hago un análisis simple de intervalos para ello. \n",
    "\n",
    "Osea que el $\\color{cyan}{\\text{criterio}}$ es que si los intervalos se superponen --> las técnicas son indistinguibles"
   ]
  },
  {
   "cell_type": "code",
   "execution_count": 9,
   "metadata": {},
   "outputs": [],
   "source": [
    "# MASAS\n",
    "M = [Clasif(VR)[1], Clasif(Tran)[1], Clasif(TTV)[1], Clasif(Pulsar)[1]] # Lista auxiliar \n",
    "Medias = [np.mean(M[0]), np.mean(M[1]), np.mean(M[2]), np.mean(M[3])]\n",
    "Desv = [np.std(M[0]), np.std(M[1]), np.std(M[2]), np.std(M[3])]\n",
    "# Una vez tengo las medias y sus incertezas, creo los rangos para compararlos\n",
    "Rangos = []\n",
    "ij = 0\n",
    "while ij<len(M):\n",
    "    Rangos.append([Medias[ij] - Desv[ij], Medias[ij] + Desv[ij]])\n",
    "    ij = ij + 1\n",
    "    \n",
    "# PERIODOS\n",
    "Pers = [Clasif(VR)[0], Clasif(Tran)[0], Clasif(TTV)[0], Clasif(Pulsar)[0]] \n",
    "Medias2 = [np.mean(Pers[0]), np.mean(Pers[1]), np.mean(Pers[2]), np.mean(Pers[3])]\n",
    "Desv2 = [np.std(Pers[0]), np.std(Pers[1]), np.std(Pers[2]), np.std(Pers[3])]\n",
    "\n",
    "Rangos2 = []\n",
    "ij = 0\n",
    "while ij<len(M):\n",
    "    Rangos2.append([Medias2[ij] - Desv2[ij], Medias2[ij] + Desv2[ij]])\n",
    "    ij = ij + 1"
   ]
  },
  {
   "cell_type": "markdown",
   "metadata": {},
   "source": [
    "Veo la lista de rangos para las masas:"
   ]
  },
  {
   "cell_type": "code",
   "execution_count": 10,
   "metadata": {},
   "outputs": [
    {
     "data": {
      "text/plain": [
       "[[-1.0127662376329698, 8.00089114991367],\n",
       " [-0.6669350204892988, 2.776251752921039],\n",
       " [0.030681463509787565, 0.2924252031568791],\n",
       " [-0.6576022397550396, 10.103109382612182]]"
      ]
     },
     "execution_count": 10,
     "metadata": {},
     "output_type": "execute_result"
    }
   ],
   "source": [
    "Rangos"
   ]
  },
  {
   "cell_type": "markdown",
   "metadata": {},
   "source": [
    "Cualitativamente se ve que todas las técnicas son compatibles (había hecho un gráfico -tipo histograma- para ver pero quedó bastante mal y creo que, como son pocos datos, con observarlos basta para sacar conclusiones (dado el criterio), no hay sesgo en la comparación de masa, veo la comparación de períodos:"
   ]
  },
  {
   "cell_type": "code",
   "execution_count": 11,
   "metadata": {},
   "outputs": [
    {
     "data": {
      "text/plain": [
       "[[-1509.6599342948612, 3343.0344932001244],\n",
       " [-17.196439644933548, 39.51750217619976],\n",
       " [-42.3861522841662, 130.45417072861065],\n",
       " [-5657.047484488734, 12945.037841307663]]"
      ]
     },
     "execution_count": 11,
     "metadata": {},
     "output_type": "execute_result"
    }
   ],
   "source": [
    "Rangos2"
   ]
  },
  {
   "cell_type": "markdown",
   "metadata": {},
   "source": [
    "Acá tampoco se ven incompatibilidades, a pesar de que se notan los rangos distintos, la dispersión de las técnicas las llevan a los valores negativos y todas son compatibles (ésto es un un artefacto de la creación del rango con la desviación estándar)\n",
    "\n",
    "------------\n",
    "\n",
    "Entonces, a pesar de los biases de las técnicas, el hecho de que no hay suficientes datos como para reducir lo suficiente la dispersión hace que las técnicas sean indistingibles -bajo mi criterio-"
   ]
  },
  {
   "cell_type": "code",
   "execution_count": null,
   "metadata": {},
   "outputs": [],
   "source": []
  }
 ],
 "metadata": {
  "kernelspec": {
   "display_name": "Python 3",
   "language": "python",
   "name": "python3"
  },
  "language_info": {
   "codemirror_mode": {
    "name": "ipython",
    "version": 3
   },
   "file_extension": ".py",
   "mimetype": "text/x-python",
   "name": "python",
   "nbconvert_exporter": "python",
   "pygments_lexer": "ipython3",
   "version": "3.7.4"
  }
 },
 "nbformat": 4,
 "nbformat_minor": 2
}
