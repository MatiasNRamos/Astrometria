{
 "cells": [
  {
   "cell_type": "markdown",
   "metadata": {},
   "source": [
    "Este programa utiliza comandos SQL para obtener datos de exoplanets.eu, luego hace una comparación entre algunas técnicas\n",
    "\n",
    "$PARTE 1$\n",
    "\n",
    "Un analisis previo consistió en traer todas las columnas y buscar las que necesitaba. Para eso limité el período a que sea menor a 3 dias (arbitrario). Ese análisis no lo dejo explícito, sólo esta línea comentándolo.\n",
    "El query era: query = \"SELECT * FROM exoplanet.epn_core WHERE period<3\"\n",
    "\n",
    "Luego hice un query ya trayendo las columnas que necesito y también limitando un poco los datos (periodos no negativos, masas menores a ~15 Mjup, etc\n",
    "\n",
    "(falta completar)\n",
    "\n",
    "-------------\n",
    "\n"
   ]
  },
  {
   "cell_type": "code",
   "execution_count": 1,
   "metadata": {},
   "outputs": [],
   "source": [
    "%matplotlib inline \n",
    "import numpy as np \n",
    "import matplotlib.pyplot as plt\n",
    "import pyvo\n",
    "# Estilo de gráficos\n",
    "plt.style.use('dark_background')\n",
    "# Servicio pyvo\n",
    "service = pyvo.dal.TAPService(\"http://voparis-tap-planeto.obspm.fr/tap\")"
   ]
  },
  {
   "cell_type": "markdown",
   "metadata": {},
   "source": [
    "Consideraré planetas y no enanas marrones => mass < ~15Mjup y filtraré los periodos para que no sean negativos"
   ]
  },
  {
   "cell_type": "code",
   "execution_count": 2,
   "metadata": {},
   "outputs": [],
   "source": [
    "query = \"\"\"SELECT period, mass, star_spec_type, detection_type\n",
    "FROM exoplanet.epn_core\n",
    "WHERE mass<15 AND period>0 AND star_distance>0\"\"\""
   ]
  },
  {
   "cell_type": "code",
   "execution_count": 3,
   "metadata": {},
   "outputs": [
    {
     "name": "stderr",
     "output_type": "stream",
     "text": [
      "WARNING: W50: None:2:1694: W50: Invalid unit string ''jupiterMass'' [astropy.io.votable.tree]\n"
     ]
    }
   ],
   "source": [
    "res = service.search(query);"
   ]
  },
  {
   "cell_type": "code",
   "execution_count": 4,
   "metadata": {},
   "outputs": [
    {
     "name": "stderr",
     "output_type": "stream",
     "text": [
      "WARNING: AstropyDeprecationWarning: Using the table property is deprecated. Please use se to_table() instead. [pyvo.dal.query]\n"
     ]
    },
    {
     "data": {
      "text/html": [
       "<i>Table masked=True length=2</i>\n",
       "<table id=\"table140061568264720\" class=\"table-striped table-bordered table-condensed\">\n",
       "<thead><tr><th>period</th><th>mass</th><th>star_spec_type</th><th>detection_type</th></tr></thead>\n",
       "<thead><tr><th>d</th><th>&apos;jupiterMass&apos;</th><th></th><th></th></tr></thead>\n",
       "<thead><tr><th>float64</th><th>float64</th><th>object</th><th>object</th></tr></thead>\n",
       "<tr><td>10260.0</td><td>2.6</td><td>F0IV</td><td>Imaging</td></tr>\n",
       "<tr><td>4.2308</td><td>0.47</td><td>G2 IV</td><td>Radial Velocity</td></tr>\n",
       "</table>"
      ],
      "text/plain": [
       "<Table masked=True length=2>\n",
       " period      mass     star_spec_type  detection_type\n",
       "   d    'jupiterMass'                               \n",
       "float64    float64        object          object    \n",
       "------- ------------- -------------- ---------------\n",
       "10260.0           2.6           F0IV         Imaging\n",
       " 4.2308          0.47          G2 IV Radial Velocity"
      ]
     },
     "execution_count": 4,
     "metadata": {},
     "output_type": "execute_result"
    }
   ],
   "source": [
    "# Veo el primer planeta de los resultados\n",
    "res.table[:2]"
   ]
  },
  {
   "cell_type": "code",
   "execution_count": 5,
   "metadata": {},
   "outputs": [],
   "source": [
    "# Obtengo los valores de las columnas en listas con un loop\n",
    "size = np.shape(res) # size[0] es la cantidad de exoplanetas que tengo\n",
    "P = [] # Períodos\n",
    "Mass = [] # Masas\n",
    "Spec = [] # Tipo espectral\n",
    "Tec = [] # Técnica de detección\n",
    "\n",
    "ij = 0\n",
    "while ij < size[0]:\n",
    "    P.append( res.getvalue(name='period', index=ij) )\n",
    "    Mass.append( res.getvalue(name='mass', index=ij) )\n",
    "    Spec.append( res.getvalue(name='star_spec_type', index=ij) )\n",
    "    Tec.append( res.getvalue(name='detection_type', index=ij) )\n",
    "    ij = ij + 1"
   ]
  },
  {
   "cell_type": "markdown",
   "metadata": {},
   "source": [
    "Para simplicidad sólo consideraré algunas técnicas y no todas, armo listas con las posiciones de los planetas en función de la técnica y luego uso la función Clasif() para clasificarlos:"
   ]
  },
  {
   "cell_type": "code",
   "execution_count": 6,
   "metadata": {},
   "outputs": [],
   "source": [
    "VR = []\n",
    "Tran = []\n",
    "TTV = []\n",
    "Pulsar = []\n",
    "ij = 0\n",
    "while ij<size[0]:\n",
    "    if Tec[ij] == b'Radial Velocity':\n",
    "        VR.append(ij)\n",
    "    if Tec[ij] == b'Primary Transit':\n",
    "        Tran.append(ij)\n",
    "    if Tec[ij] == b'TTV':\n",
    "        TTV.append(ij)\n",
    "    if Tec[ij] == b'Pulsar':\n",
    "        Pulsar.append(ij)\n",
    "    ij = ij + 1"
   ]
  },
  {
   "cell_type": "code",
   "execution_count": 7,
   "metadata": {},
   "outputs": [],
   "source": [
    "def Clasif(X):\n",
    "    \"\"\" Devuelve el periodo y masa para los planetas en función de su técnica de detección\n",
    "    \n",
    "    Parameters\n",
    "    ----------\n",
    "    X : list\n",
    "        Lista con valores enteros que localizan a la técnica asociada al arreglo X. \n",
    "        Por ej: X:VR tendrá los valores para las posiciones de todos los planetas que fueron\n",
    "        detectados por esa técnica. Si tengo 3 planetas y los dos últimos fueron detectados\n",
    "        por VR => X = [1,2] ( NO es X=[0,1,2] )\n",
    "        \n",
    "    Returns\n",
    "    -------\n",
    "    Per, Masa : list, list\n",
    "        Listas con los parámetros asociados a la técnica requerida\n",
    "        \n",
    "    \"\"\"\n",
    "    Per = []\n",
    "    Masa = []\n",
    "    for ij in X:\n",
    "        Per.append(P[ij])\n",
    "        Masa.append(Mass[ij])\n",
    "    return (Per, Masa)"
   ]
  },
  {
   "cell_type": "code",
   "execution_count": 8,
   "metadata": {},
   "outputs": [
    {
     "data": {
      "image/png": "[encoded data removed]",
      "text/plain": [
       "<Figure size 864x432 with 1 Axes>"
      ]
     },
     "metadata": {
      "needs_background": "dark"
     },
     "output_type": "display_data"
    }
   ],
   "source": [
    "fig, ax = plt.subplots(1, 1, figsize = (12,6))\n",
    "\n",
    "ax.scatter(Clasif(VR)[0], Clasif(VR)[1], color='red', zorder=0, marker='v', s=60,\n",
    "          label='VR')\n",
    "ax.scatter(Clasif(Tran)[0], Clasif(Tran)[1], color='yellow', zorder=10, alpha=0.3, s=5,\n",
    "          label='Tránsito')\n",
    "ax.scatter(Clasif(TTV)[0], Clasif(TTV)[1], color='green', marker='d', s=50,\n",
    "          label='TTV')\n",
    "ax.scatter(Clasif(Pulsar)[0], Clasif(Pulsar)[1], color='cyan', marker='x',\n",
    "          label='Pulsar')\n",
    "\n",
    "ax.set_xscale('log')\n",
    "ax.set_title('Masa vs periodo', fontsize=20)\n",
    "ax.set_ylabel('Masa [MJup]', fontsize=20)\n",
    "ax.set_xlabel('Periodo [d]', fontsize=20);\n",
    "ax.legend(fontsize=15, loc=4);"
   ]
  },
  {
   "cell_type": "markdown",
   "metadata": {},
   "source": [
    "Comparación de técnicas:"
   ]
  },
  {
   "cell_type": "code",
   "execution_count": null,
   "metadata": {},
   "outputs": [],
   "source": []
  }
 ],
 "metadata": {
  "kernelspec": {
   "display_name": "Python 3",
   "language": "python",
   "name": "python3"
  },
  "language_info": {
   "codemirror_mode": {
    "name": "ipython",
    "version": 3
   },
   "file_extension": ".py",
   "mimetype": "text/x-python",
   "name": "python",
   "nbconvert_exporter": "python",
   "pygments_lexer": "ipython3",
   "version": "3.7.4"
  }
 },
 "nbformat": 4,
 "nbformat_minor": 2
}
