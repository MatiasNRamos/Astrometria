{
 "cells": [
  {
   "cell_type": "markdown",
   "metadata": {},
   "source": [
    "Estudio de distribución de distancias de los exoplanetas a su estrella\n",
    "\n",
    "-----------\n",
    "\n",
    "El código usa un query similar al del problema 6 para traer los valores del semieje mayor (no dice si es relativo, baricéntrico o de Jacobi) y luego intentar ver si una gaussiana puede explicar su distribución\n",
    "\n",
    "Primero busco cuál es ma gaussiana que mejor representa los datos usando el algorítmo genético como minimizador del estadístico Chi2, y luego comparo ambas distribuciones con el ks-test de scipy"
   ]
  },
  {
   "cell_type": "code",
   "execution_count": 1,
   "metadata": {},
   "outputs": [
    {
     "name": "stderr",
     "output_type": "stream",
     "text": [
      "In /home/matt/anaconda3/lib/python3.7/site-packages/matplotlib/mpl-data/stylelib/_classic_test.mplstyle: \n",
      "The text.latex.preview rcparam was deprecated in Matplotlib 3.3 and will be removed two minor releases later.\n",
      "In /home/matt/anaconda3/lib/python3.7/site-packages/matplotlib/mpl-data/stylelib/_classic_test.mplstyle: \n",
      "The mathtext.fallback_to_cm rcparam was deprecated in Matplotlib 3.3 and will be removed two minor releases later.\n",
      "In /home/matt/anaconda3/lib/python3.7/site-packages/matplotlib/mpl-data/stylelib/_classic_test.mplstyle: Support for setting the 'mathtext.fallback_to_cm' rcParam is deprecated since 3.3 and will be removed two minor releases later; use 'mathtext.fallback : 'cm' instead.\n",
      "In /home/matt/anaconda3/lib/python3.7/site-packages/matplotlib/mpl-data/stylelib/_classic_test.mplstyle: \n",
      "The validate_bool_maybe_none function was deprecated in Matplotlib 3.3 and will be removed two minor releases later.\n",
      "In /home/matt/anaconda3/lib/python3.7/site-packages/matplotlib/mpl-data/stylelib/_classic_test.mplstyle: \n",
      "The savefig.jpeg_quality rcparam was deprecated in Matplotlib 3.3 and will be removed two minor releases later.\n",
      "In /home/matt/anaconda3/lib/python3.7/site-packages/matplotlib/mpl-data/stylelib/_classic_test.mplstyle: \n",
      "The keymap.all_axes rcparam was deprecated in Matplotlib 3.3 and will be removed two minor releases later.\n",
      "In /home/matt/anaconda3/lib/python3.7/site-packages/matplotlib/mpl-data/stylelib/_classic_test.mplstyle: \n",
      "The animation.avconv_path rcparam was deprecated in Matplotlib 3.3 and will be removed two minor releases later.\n",
      "In /home/matt/anaconda3/lib/python3.7/site-packages/matplotlib/mpl-data/stylelib/_classic_test.mplstyle: \n",
      "The animation.avconv_args rcparam was deprecated in Matplotlib 3.3 and will be removed two minor releases later.\n"
     ]
    }
   ],
   "source": [
    "%matplotlib inline \n",
    "import numpy as np \n",
    "import matplotlib.pyplot as plt\n",
    "import pyvo\n",
    "from astropy.visualization import hist\n",
    "from scipy.stats import norm, kstest\n",
    "# Estilo de gráficos\n",
    "plt.style.use('dark_background')\n",
    "# Servicio pyvo\n",
    "service = pyvo.dal.TAPService(\"http://voparis-tap-planeto.obspm.fr/tap\");"
   ]
  },
  {
   "cell_type": "code",
   "execution_count": 2,
   "metadata": {},
   "outputs": [],
   "source": [
    "query = \"\"\"SELECT semi_major_axis, semi_major_axis_error_min, semi_major_axis_error_max\n",
    "FROM exoplanet.epn_core\n",
    "WHERE mass<15 AND period>0 AND star_distance>0 AND semi_major_axis>0\n",
    "AND semi_major_axis_error_min>0 AND semi_major_axis_error_max>0\"\"\"\n",
    "res = service.search(query);"
   ]
  },
  {
   "cell_type": "code",
   "execution_count": 3,
   "metadata": {},
   "outputs": [],
   "source": [
    "# Obtengo los valores de las columnas en listas con un loop\n",
    "Sma = [] # Semieje mayor \n",
    "Errmin = [] # Error por izquierda del semieje mayor\n",
    "Errmax = [] # Error por derecha del semieje mayor\n",
    "ij = 0\n",
    "while ij < len(res):\n",
    "    Sma.append( res.getvalue(name='semi_major_axis', index=ij) )\n",
    "    Errmin.append( res.getvalue(name='semi_major_axis_error_min', index=ij) )\n",
    "    Errmax.append( res.getvalue(name='semi_major_axis_error_max', index=ij) )\n",
    "    ij = ij + 1\n",
    "    \n",
    "# Ordeno los valores de Sma y creo \"Esc\": distribución \"escalón acumulada\"\n",
    "Indices = np.argsort(Sma) # Guardo los índices originales para luego armar ERR\n",
    "Sma = np.sort(Sma) \n",
    "Esc = []\n",
    "ij = 0\n",
    "while ij<len(Sma):\n",
    "    Esc.append( ij/len(Sma) )\n",
    "    ij = ij + 1\n",
    "    \n",
    "# Calculo los errores simétricos usando el máximo\n",
    "ERR = []\n",
    "for ij in Indices:\n",
    "    ERR.append(max(Errmin[ij], Errmax[ij]))  \n",
    "    ij = ij + 1"
   ]
  },
  {
   "cell_type": "markdown",
   "metadata": {},
   "source": [
    "El modelo a ajustar será el de una gaussiana, para eso usaré scipy y sus métodos"
   ]
  },
  {
   "cell_type": "code",
   "execution_count": 4,
   "metadata": {},
   "outputs": [],
   "source": [
    "# Defino el estadístico a minimizar (Chi2)\n",
    "def Chi2(Params):\n",
    "    \"\"\" Devuelve el valor del estadístico Chi2\n",
    "    \n",
    "    Parameters\n",
    "    ----------\n",
    "    Params : list\n",
    "        Lista con los parámetros a ajustar del modelo\n",
    "        \n",
    "    Retuns\n",
    "    ------\n",
    "    Chi2 : .float\n",
    "        Valor de Chi2\n",
    "    \n",
    "    \"\"\"\n",
    "    import numpy as np\n",
    "    from scipy.stats import norm\n",
    "    mu, std = Params\n",
    "    \n",
    "    N = len(Sma)\n",
    "    # Mis observaciones \n",
    "    Obs = Esc\n",
    "    # Construyo las \"observaciones\" teóricas (con scipy)\n",
    "    rv = norm(loc=mu, scale=std)\n",
    "    Calc = rv.cdf(Sma) # Obs. teóricas\n",
    "                \n",
    "    Chi2 = (1/N)*np.sum( ( (Obs-Calc)/ERR )**2. )\n",
    "    return Chi2"
   ]
  },
  {
   "cell_type": "code",
   "execution_count": 5,
   "metadata": {},
   "outputs": [],
   "source": [
    "# Bounds para la exploración con algoritmo genético:\n",
    "rmu = (0.01, 0.1) # Rango de valores de \"mu\", cualitativos                    \n",
    "rstd = (0.001, 1) # Rango de valores de \"std\", cualitativos"
   ]
  },
  {
   "cell_type": "code",
   "execution_count": 6,
   "metadata": {},
   "outputs": [
    {
     "name": "stdout",
     "output_type": "stream",
     "text": [
      "CPU times: user 7.77 s, sys: 22.6 ms, total: 7.79 s\n",
      "Wall time: 7.9 s\n"
     ]
    }
   ],
   "source": [
    "%%time\n",
    "# Corro el algorítmo genético\n",
    "import scipy.optimize as optimize\n",
    "bounds = (rmu, rstd)\n",
    "resAG = optimize.differential_evolution(Chi2, bounds, strategy='best1bin', \n",
    "                                           maxiter=1000, popsize=100,tol=0.001, \n",
    "                                           mutation=(0.5, 1), recombination=0.7, \n",
    "                                           seed=None, callback=None, disp=False, \n",
    "                                           polish=True, init='latinhypercube', atol=0)"
   ]
  },
  {
   "cell_type": "code",
   "execution_count": 7,
   "metadata": {},
   "outputs": [
    {
     "data": {
      "image/png": "[encoded data removed]",
      "text/plain": [
       "<Figure size 1008x432 with 2 Axes>"
      ]
     },
     "metadata": {
      "needs_background": "dark"
     },
     "output_type": "display_data"
    }
   ],
   "source": [
    "# Grafico los resultados para comparar cualitativamente primero\n",
    "fig, ax = plt.subplots(1, 2, figsize = (14,6))\n",
    "\n",
    "rv = norm( resAG.x[0], resAG.x[1] )\n",
    "x = np.linspace(0.001, 1, 300)\n",
    "\n",
    "ax[0].errorbar(Sma, Esc, xerr=ERR, color='green', label='Datos', zorder=2, fmt='.')\n",
    "ax[0].plot(Sma, rv.cdf(Sma), color='cyan', label='Modelo', lw=2)\n",
    "\n",
    "\n",
    "ax[1].plot(x, rv.pdf(x), color='cyan', lw=5, label='Gaussiana ajustada', zorder=3)\n",
    "hist(Sma, bins='blocks', ax=ax[1], density=True, color='green', label='Bloques bayesianos',\n",
    "    zorder=2)\n",
    "\n",
    "ax[0].set_title('Dist. de probabilidad acumulada', fontsize=20)\n",
    "ax[0].set_xlabel('Distancia [UA]', fontsize=20)\n",
    "ax[0].set_ylabel('Frecuencia', fontsize=20)\n",
    "ax[0].set_xscale('log')\n",
    "ax[0].legend(fontsize=12)\n",
    "\n",
    "ax[1].set_title('Histograma de distancias', fontsize=20)\n",
    "ax[1].set_xlabel('Distancia [UA]', fontsize=20)\n",
    "ax[1].set_ylabel('Frecuencia', fontsize=20)\n",
    "ax[1].set_xscale('log')\n",
    "ax[1].legend(fontsize=12);"
   ]
  },
  {
   "cell_type": "markdown",
   "metadata": {},
   "source": [
    "Hago el KS-Test"
   ]
  },
  {
   "cell_type": "code",
   "execution_count": 8,
   "metadata": {},
   "outputs": [
    {
     "name": "stdout",
     "output_type": "stream",
     "text": [
      "Distancia máxima: 0.26\n",
      "p-value: 2.871670340523641e-18\n"
     ]
    }
   ],
   "source": [
    "Test = kstest(Esc, rv.cdf(Sma))\n",
    "print('Distancia máxima:', round(Test[0], 2))\n",
    "# El p-value es Test[1]\n",
    "print('p-value:', Test[1])"
   ]
  },
  {
   "cell_type": "markdown",
   "metadata": {},
   "source": [
    "Como se observa, el p-value es muy chico, no importa qué nivel de significancia razonable pida ( ~80%, 90%, 95%, 99%, 99,99%, etc) se rechaza la hipótesis nula (que las distribuciones son iguales).\n",
    "\n",
    "Se concluye que la gaussiana **NO** representa a los datos porque siempre p<alpha"
   ]
  },
  {
   "cell_type": "code",
   "execution_count": null,
   "metadata": {},
   "outputs": [],
   "source": []
  }
 ],
 "metadata": {
  "kernelspec": {
   "display_name": "Python 3",
   "language": "python",
   "name": "python3"
  },
  "language_info": {
   "codemirror_mode": {
    "name": "ipython",
    "version": 3
   },
   "file_extension": ".py",
   "mimetype": "text/x-python",
   "name": "python",
   "nbconvert_exporter": "python",
   "pygments_lexer": "ipython3",
   "version": "3.7.4"
  }
 },
 "nbformat": 4,
 "nbformat_minor": 2
}
