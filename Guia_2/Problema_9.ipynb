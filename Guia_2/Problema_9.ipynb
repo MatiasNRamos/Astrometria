{
 "cells": [
  {
   "cell_type": "markdown",
   "metadata": {},
   "source": [
    "Este código crea una función que me permite estimar la varianza de una distribución y lo chequea con las distribuciones de Poisson y Gauss. Además, usa el método boostrap resampling que se basa en, a partir de una muestra, se crea una población y luego se toman muestras de la misma.\n",
    "\n",
    "Ésto permite medir un estadístico, por ej. la varianza, tantas veces como se quiera y luego tener un intervalo de confianza para el mismo.\n",
    "\n",
    "\n",
    "-----\n",
    "El cógido genera una función que me premite calcular la varianza de una distribución y luego crea otra función que, usando el método de boostrap resampling, me devuelve el intervalo de confianza para cierto nivel de significancia y también me da la distribución de varianzas medidas"
   ]
  },
  {
   "cell_type": "code",
   "execution_count": 1,
   "metadata": {},
   "outputs": [],
   "source": [
    "%matplotlib inline \n",
    "import numpy as np \n",
    "import matplotlib.pyplot as plt\n",
    "# Estilo de gráficos\n",
    "plt.style.use('dark_background')"
   ]
  },
  {
   "cell_type": "code",
   "execution_count": 2,
   "metadata": {},
   "outputs": [],
   "source": [
    "# Estilo de gráficos\n",
    "plt.style.use('dark_background')"
   ]
  },
  {
   "cell_type": "code",
   "execution_count": 3,
   "metadata": {},
   "outputs": [],
   "source": [
    "def Var(X):\n",
    "    \"\"\" Devuelve la varianza un arreglo\n",
    "    \n",
    "    Parameters\n",
    "    ----------\n",
    "    X : np.darray()\n",
    "        Arreglo de valores de una variable aleatoria\n",
    "        \n",
    "    Returns\n",
    "    -------\n",
    "    Var : .float\n",
    "        Varianza del arreglo X\n",
    "    \n",
    "    \"\"\"\n",
    "    import numpy as np \n",
    "    # La varianza es el momento de orden 2 de la distribución discreta, la calculo:\n",
    "    Var = np.sum((X-np.mean(np.array(X)))**2)/len(X)\n",
    "    return Var"
   ]
  },
  {
   "cell_type": "markdown",
   "metadata": {},
   "source": [
    "Para probarla uso dos distribuciones conocidas: gaussiana y Poisson. Para la de Poisson traigo mi propia función generadora"
   ]
  },
  {
   "cell_type": "code",
   "execution_count": 4,
   "metadata": {},
   "outputs": [
    {
     "data": {
      "image/png": "[encoded data removed]",
      "text/plain": [
       "<Figure size 1008x432 with 2 Axes>"
      ]
     },
     "metadata": {},
     "output_type": "display_data"
    }
   ],
   "source": [
    "# Creo las dos distribuciones:\n",
    "Puntos = 10000\n",
    "# Poisson\n",
    "from Misfunciones import Poisson # Usar help(Poisson) para ver detalles\n",
    "Lambd = 3 # Teóricamente es la media y la varianza\n",
    "XP = Poisson(lambd=Lambd, N=Puntos)\n",
    "# Gauss\n",
    "dev = 1 # desviación estándar\n",
    "XG = np.random.normal(0, dev, Puntos)\n",
    "\n",
    "# Grafico\n",
    "fig, ax = plt.subplots(1, 2, figsize = (14,6))\n",
    "\n",
    "ax[0].hist(XP, color='cyan', bins=50);\n",
    "ax[1].hist(XG, color='green', bins=50);\n",
    "\n",
    "ax[0].set_title('Poisson', fontsize=20)\n",
    "ax[0].set_ylabel('Frecuencia', fontsize=20)\n",
    "ax[0].set_xlabel('k', fontsize=20)\n",
    "ax[1].set_title('Gaussiana', fontsize=20)\n",
    "ax[1].set_ylabel('Frecuencia', fontsize=20)\n",
    "ax[1].set_xlabel('x', fontsize=20);"
   ]
  },
  {
   "cell_type": "code",
   "execution_count": 5,
   "metadata": {},
   "outputs": [
    {
     "name": "stdout",
     "output_type": "stream",
     "text": [
      "Varianza teórica Poisson = 3\n",
      "Varianza obtenida Poisson = 2.803882714309116\n",
      "Varianza teórica Gauss = 1\n",
      "Varianza obtenida Gauss = 0.9891229637633558\n"
     ]
    }
   ],
   "source": [
    "# Calculo varianzas:\n",
    "VarXP = Var(np.array(XP))\n",
    "print('Varianza teórica Poisson =', Lambd)\n",
    "print('Varianza obtenida Poisson =', VarXP)\n",
    "VarXG = Var(XG)\n",
    "print('Varianza teórica Gauss =', dev**2)\n",
    "print('Varianza obtenida Gauss =', VarXG)"
   ]
  },
  {
   "cell_type": "markdown",
   "metadata": {},
   "source": [
    "No es extremadamente precisa pero funciona. Probé calcularla con np.var(XP) y da lo mismo"
   ]
  },
  {
   "cell_type": "markdown",
   "metadata": {},
   "source": [
    "Ahora defino la función Boostrap_var() que requiere tener cargada la función Var(). Podría usar la función np.var() pero creo que eso no es lo que se pide."
   ]
  },
  {
   "cell_type": "code",
   "execution_count": 6,
   "metadata": {},
   "outputs": [],
   "source": [
    "def Boostrap_var(Sample, N, Mult, alpha):\n",
    "    \"\"\" Usa el método boostrap resampling para tener la incerteza de la varianza de una muestra\n",
    "    \n",
    "    Parameters\n",
    "    ----------\n",
    "    \n",
    "    Sample : np.ndarray()\n",
    "        Muestra de la variable aleatoria\n",
    "    N : int\n",
    "        Cantidad de resamplings. Valor positivo mayor a cero\n",
    "    Mult : int\n",
    "        Multiplicador para crear la población de tamaño M*len(Sample)\n",
    "    alpha : .float\n",
    "        Nivel de significancia deseado, pertenece a (0,1). Si se quiere 95% => alpha=0.95. \n",
    "    \n",
    "    Returns\n",
    "    -------\n",
    "    .float\n",
    "        Valor inferior del intervalo de confianza\n",
    "    .float\n",
    "        Valor superior del intervalo de confianza\n",
    "    np.darray()\n",
    "        Arreglo de las medias de las varianzas\n",
    "    \"\"\"\n",
    "    # Errores\n",
    "    if N<1 or isinstance(N, int)==False:\n",
    "        raise ValueError('Error: N debe ser una entero positivo')\n",
    "    if alpha<0 or alpha>=1:\n",
    "        raise ValueError('Error: Alpha debe pertenecer al intervalo (0,1)')\n",
    "    # -------\n",
    "    import numpy as np\n",
    "    # Creo una población de tamaño M*len(Samples)\n",
    "    # Básicamente copio y pego la muestra M veces\n",
    "    Pop = []\n",
    "    ij = 0\n",
    "    while ij<Mult:\n",
    "        ik = 0\n",
    "        while ik<len(Sample):\n",
    "            Pop.append(Sample[ik])\n",
    "            ik = ik + 1\n",
    "        ij = ij + 1\n",
    "    # Tomo N samples DE ESA POBLACIÓN de tamaño len(Sample) y le calculo la varianza a c/u\n",
    "    ij = 0\n",
    "    Vars = []\n",
    "    while ij<N:\n",
    "        Resampling = np.random.choice(Pop, size=len(Sample))\n",
    "        Vars.append( Var(Resampling) )\n",
    "        ij = ij + 1\n",
    "    # Transformo a array de Numpy\n",
    "    Vars = np.array(Vars)\n",
    "    \n",
    "    # Calculos los intervalos de confianza ------------------------\n",
    "    Dsort = np.sort(Vars) # Ordeno los valores de las varianzas\n",
    "    # Encuentro el ij correspondiente a la media, lo llamo \"ijm\"\n",
    "    ij = 0\n",
    "    while ij<len(Dsort):\n",
    "        EA = sum(Dsort<=Dsort[ij])/len(Dsort) # Estimación del área\n",
    "        if EA>=0.5: # media --> 0.5 del área estimada\n",
    "            ijm = ij\n",
    "            break\n",
    "        ij = ij + 1\n",
    "    # Suponiendo intervalos de confianza simétricos busco el intervalo de confianza:\n",
    "    ij = ijm\n",
    "    while ij<len(Dsort):\n",
    "        # Cuento los \"True\". Esto es la estimación de un área para una distrib. discreta\n",
    "        EA = sum(Dsort<=Dsort[ij])/len(Dsort) # Empieza con el valor \"0.5\" para ij=ijm\n",
    "        if EA>0.5+alpha/2:\n",
    "            sup = Dsort[ij]                       # parte superior del intervalo \n",
    "            inf = Dsort[ijm] - (sup - Dsort[ijm]) # Parte inferior del intervalo\n",
    "            break \n",
    "        ij = ij + 1\n",
    "    return inf, sup, Dsort"
   ]
  },
  {
   "cell_type": "code",
   "execution_count": 7,
   "metadata": {},
   "outputs": [],
   "source": [
    "# Ejemplo\n",
    "N1 = 1000\n",
    "M1 = 10\n",
    "alpha1 = 0.95\n",
    "\n",
    "D = Boostrap_var(XG, N=N1, Mult=M1, alpha=alpha1) # Distribución calculada"
   ]
  },
  {
   "cell_type": "code",
   "execution_count": 8,
   "metadata": {},
   "outputs": [
    {
     "data": {
      "image/png": "[encoded data removed]",
      "text/plain": [
       "<Figure size 864x432 with 1 Axes>"
      ]
     },
     "metadata": {},
     "output_type": "display_data"
    }
   ],
   "source": [
    "fig, ax = plt.subplots(1, 1, figsize = (12,6))\n",
    "\n",
    "ax.hist(D[2], color='green');\n",
    "ax.axvline(D[0], ls='--', color='cyan', label='Límite inferior')\n",
    "ax.axvline(D[1], ls='--', color='yellow', label='Límite superior')\n",
    "ax.axvline(np.mean(D[2]), ls='--', color='white', label='Media')\n",
    "\n",
    "ax.set_title('Distribución de medias de la varianza', fontsize=20)\n",
    "ax.set_xlabel('Valor', fontsize=20)\n",
    "ax.set_ylabel('Frecuencia', fontsize=20);\n",
    "ax.legend();"
   ]
  },
  {
   "cell_type": "markdown",
   "metadata": {},
   "source": [
    "Ahora veré si el nivel de significancia calculado contiene al valor correcto de la varianza"
   ]
  },
  {
   "cell_type": "code",
   "execution_count": 9,
   "metadata": {},
   "outputs": [
    {
     "name": "stdout",
     "output_type": "stream",
     "text": [
      "El intervalo de confianza del % 95.0 es: ( 0.964 , 1.016 )\n",
      "La varianza teórica es: 0.989\n",
      "Resultado: Si, los resultados con compatibles\n"
     ]
    }
   ],
   "source": [
    "# Recordar que la varianza teórica de la gaussiana la definí como \"VarXG\"\n",
    "print('El intervalo de confianza del %',100*alpha1, 'es: (', round(D[0],3),\n",
    "      ',', round(D[1],3), ')')\n",
    "print('La varianza teórica es:', round(VarXG,3))\n",
    "# Condición\n",
    "if VarXG>D[0] and VarXG<D[1]:\n",
    "    print('Resultado: Si, los resultados con compatibles')\n",
    "else: \n",
    "    print('Resultado: No, los resultados no son compatibles')"
   ]
  },
  {
   "cell_type": "code",
   "execution_count": null,
   "metadata": {},
   "outputs": [],
   "source": []
  }
 ],
 "metadata": {
  "kernelspec": {
   "display_name": "Python 3",
   "language": "python",
   "name": "python3"
  },
  "language_info": {
   "codemirror_mode": {
    "name": "ipython",
    "version": 3
   },
   "file_extension": ".py",
   "mimetype": "text/x-python",
   "name": "python",
   "nbconvert_exporter": "python",
   "pygments_lexer": "ipython3",
   "version": "3.7.4"
  }
 },
 "nbformat": 4,
 "nbformat_minor": 2
}
