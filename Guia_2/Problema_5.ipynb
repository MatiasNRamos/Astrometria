{
 "cells": [
  {
   "cell_type": "markdown",
   "metadata": {},
   "source": [
    "En este problema se aplicará el método de la función inversa para obtener una lista de valores que sigan la distribución de Poisson.\n",
    "\n",
    " A la función que hace ésto la definí en el archivo \"Misfunciones.py\", parte del problema 2 de la guía.\n",
    "\n",
    "El método de la función inversa se lo usó de la siguiente forma: Tengo la forma funcional de la distribución de Poisson, la cual es discreta. Luego la materializo hasta cierto punto (3 sigmas) y utilizo ésto para, dado unos números random en (0,1), tener su determinado k.\n",
    "Ver: https://en.wikipedia.org/wiki/Poisson_distribution"
   ]
  },
  {
   "cell_type": "code",
   "execution_count": 1,
   "metadata": {},
   "outputs": [],
   "source": [
    "%matplotlib inline \n",
    "import numpy as np \n",
    "import matplotlib.pyplot as plt\n",
    "from Misfunciones import Poisson \n",
    "# Estilo de gráficos\n",
    "plt.style.use('dark_background')"
   ]
  },
  {
   "cell_type": "code",
   "execution_count": 2,
   "metadata": {},
   "outputs": [],
   "source": [
    "# Estilo de gráficos\n",
    "plt.style.use('dark_background')"
   ]
  },
  {
   "cell_type": "code",
   "execution_count": 3,
   "metadata": {},
   "outputs": [],
   "source": [
    "# Tasa de Poisson: 5 eventos por hora. Tiempo total: 3 horas\n",
    "Tasa = 5   # Eventos por hora\n",
    "N = 5*3    # Eventos en 3 horas # VERIFICAR !\n",
    "K = Poisson(lambd=Tasa, N=N)"
   ]
  },
  {
   "cell_type": "code",
   "execution_count": 4,
   "metadata": {},
   "outputs": [
    {
     "data": {
      "image/png": "[encoded data removed]",
      "text/plain": [
       "<Figure size 432x288 with 1 Axes>"
      ]
     },
     "metadata": {},
     "output_type": "display_data"
    }
   ],
   "source": [
    "# Grafico\n",
    "plt.hist(K, color='green')\n",
    "\n",
    "plt.title('Histograma de elementos generados', fontsize=15)\n",
    "plt.xlabel('k', fontsize=15)\n",
    "plt.ylabel('Frecuencia', fontsize=15)\n",
    "plt.xlim(0,3*Tasa); # Hasta 3 sigma"
   ]
  },
  {
   "cell_type": "code",
   "execution_count": null,
   "metadata": {},
   "outputs": [],
   "source": []
  }
 ],
 "metadata": {
  "kernelspec": {
   "display_name": "Python 3",
   "language": "python",
   "name": "python3"
  },
  "language_info": {
   "codemirror_mode": {
    "name": "ipython",
    "version": 3
   },
   "file_extension": ".py",
   "mimetype": "text/x-python",
   "name": "python",
   "nbconvert_exporter": "python",
   "pygments_lexer": "ipython3",
   "version": "3.7.4"
  }
 },
 "nbformat": 4,
 "nbformat_minor": 2
}
