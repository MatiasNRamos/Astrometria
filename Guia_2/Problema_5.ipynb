{
 "cells": [
  {
   "cell_type": "markdown",
   "metadata": {},
   "source": [
    "En este problema se simulará la ocurrencia de eventos para un proceso Poisson con una tasa de ocurrencia (lambda=5/h) en el intervalo (t=3h).\n",
    "\n",
    "El código lo que hace es usar el hecho de que puedo generar una variable Poisson a partir de otra variable que sigue la distribución exponencial con el mismo parámetro lambda. Ésta otra variable determina los \"saltos\" en la recta numérica que delimita el intervalo que yo quiera.\n",
    "\n",
    "Hago un doble loop para generar los valores de la variable Poisson usando la generación de la otra variable aleatoria"
   ]
  },
  {
   "cell_type": "code",
   "execution_count": 1,
   "metadata": {},
   "outputs": [],
   "source": [
    "%matplotlib inline \n",
    "import numpy as np \n",
    "import matplotlib.pyplot as plt\n",
    "from math import factorial\n",
    "# Estilo de gráficos\n",
    "plt.style.use('dark_background')"
   ]
  },
  {
   "cell_type": "code",
   "execution_count": 2,
   "metadata": {},
   "outputs": [],
   "source": [
    "# Estilo de gráficos\n",
    "plt.style.use('dark_background')"
   ]
  },
  {
   "cell_type": "code",
   "execution_count": 3,
   "metadata": {},
   "outputs": [],
   "source": [
    "def Gen_Poisson(tasa, size, time=1):\n",
    "    \"\"\" Devuelve un arreglo con una variable Poisson\n",
    "    \n",
    "    Parameters\n",
    "    ----------\n",
    "    tasa : .float\n",
    "        Tasa de eventos Poisson. Debe ser positiva\n",
    "    size : int\n",
    "        Tamaño del arreglo, Debe ser positivo\n",
    "    time : .float\n",
    "        Tiempo observado. Default = 1\n",
    "        \n",
    "    Returns\n",
    "    -------\n",
    "    N : list\n",
    "        Arreglo de una variable Poisson\n",
    "        \n",
    "    \"\"\"\n",
    "    # Errores\n",
    "    if size<0:\n",
    "        raise ValueError('Error, el argumento size debe ser un entero positivo')\n",
    "    if tasa<0:\n",
    "        raise ValueError('Error, la tasa debe ser un real positivo')\n",
    "    # -------\n",
    "    import numpy as np\n",
    "    from math import factorial\n",
    "    N = [] # Variable aleatoria tipo Poisson\n",
    "    ij = 0\n",
    "    while ij<size: # Loop para generar \"size\" valores de N\n",
    "        x = np.random.exponential(scale=time/tasa, size=size)\n",
    "        CS = np.cumsum(x)\n",
    "        ik = 0\n",
    "        while ik<size: # Loop para calcular el valor de N usando los saltos\n",
    "            S = CS[ik] # Exploro la suma acumulada de saltos\n",
    "            if S>time: # Cuando me paso del intervalo pedido cuento los eventos\n",
    "                N.append( len(x[:ik]) )\n",
    "                break\n",
    "            ik = ik + 1\n",
    "        ij = ij + 1\n",
    "    return N"
   ]
  },
  {
   "cell_type": "code",
   "execution_count": 4,
   "metadata": {},
   "outputs": [],
   "source": [
    "# Genero la variable Poisson con mi función\n",
    "Ns = Gen_Poisson(tasa=5, size=10000, time=3)"
   ]
  },
  {
   "cell_type": "code",
   "execution_count": 5,
   "metadata": {},
   "outputs": [
    {
     "data": {
      "image/png": "[encoded data removed]",
      "text/plain": [
       "<Figure size 1008x576 with 1 Axes>"
      ]
     },
     "metadata": {},
     "output_type": "display_data"
    }
   ],
   "source": [
    "# Histograma\n",
    "fig, ax = plt.subplots(1, 1, figsize = (14,8))\n",
    "\n",
    "ax.hist(Ns, color='green', density=True, bins=30)\n",
    "\n",
    "ax.set_title('Histograma', fontsize=20)\n",
    "ax.set_ylim(0,1)\n",
    "ax.set_xlabel('k', fontsize=20)\n",
    "ax.set_ylabel('Frecuencia relativa', fontsize=20);"
   ]
  },
  {
   "cell_type": "code",
   "execution_count": null,
   "metadata": {},
   "outputs": [],
   "source": []
  }
 ],
 "metadata": {
  "kernelspec": {
   "display_name": "Python 3",
   "language": "python",
   "name": "python3"
  },
  "language_info": {
   "codemirror_mode": {
    "name": "ipython",
    "version": 3
   },
   "file_extension": ".py",
   "mimetype": "text/x-python",
   "name": "python",
   "nbconvert_exporter": "python",
   "pygments_lexer": "ipython3",
   "version": "3.7.4"
  }
 },
 "nbformat": 4,
 "nbformat_minor": 2
}
