{
 "cells": [
  {
   "cell_type": "markdown",
   "metadata": {},
   "source": [
    "Aprovecho de que la distribución de Poisson es discreta para armar la función de probabilidad acumulada (FPA). Corto en 3 sigmas porque me parece más que suficiente.\n",
    "\n",
    "Una vez tengo la FPA discretizada la uso para, dado un número Y en (0,1), encontrar su correspondiente X. Ésto es el método de la función inversa sin tener la inversa en si."
   ]
  },
  {
   "cell_type": "code",
   "execution_count": 5,
   "metadata": {},
   "outputs": [],
   "source": [
    "%matplotlib inline \n",
    "import numpy as np \n",
    "import matplotlib.pyplot as plt\n",
    "from math import factorial\n",
    "# Estilo de gráficos\n",
    "plt.style.use('dark_background')"
   ]
  },
  {
   "cell_type": "code",
   "execution_count": 6,
   "metadata": {},
   "outputs": [],
   "source": [
    "plt.style.use('dark_background')"
   ]
  },
  {
   "cell_type": "code",
   "execution_count": 7,
   "metadata": {},
   "outputs": [],
   "source": [
    "def Poisson(lambd, N):\n",
    "    \"\"\" Devuelve una lista con elementos que siguen la distribución de Poisson\n",
    "    \n",
    "    Parameters\n",
    "    ----------\n",
    "    lambd : int\n",
    "        Es la tasa de la distribución\n",
    "    N : int\n",
    "        Número de puntos, tiempo trancurrido\n",
    "    \n",
    "    Returns\n",
    "    -------\n",
    "    list\n",
    "        Lista de valores \"k\" para una distribución de Poisson que siga los parámetros\n",
    "    \"\"\"\n",
    "    import numpy as np\n",
    "    from math import factorial\n",
    "    # Creo la distribución acumulada de Poisson, la muestreo hasta un k igual a 3 sigma de\n",
    "    # Poisson\n",
    "    maxk = 3*lambd \n",
    "    Poisson = np.empty(maxk)\n",
    "    for ij in range(maxk):\n",
    "        Numerador = (lambd**(ij))*np.exp(-lambd)\n",
    "        Poisson[ij] = Numerador/factorial(ij)\n",
    "        ij = ij + 1\n",
    "    Acum = np.cumsum(Poisson) # Distribución de probabilidad acumulada\n",
    "    \n",
    "    # Creo la distribución K que sigue la distribución de Poisson mediante \"Acum\"\n",
    "    Nums = np.random.random(N) # Números aleatorios en [0,1]\n",
    "    K = []\n",
    "    ij = 0 # Recorre el arreglo Nums\n",
    "    while ij<len(Nums):\n",
    "        ik = 0 # Recorre el arreglo Acum\n",
    "        while ik<maxk:\n",
    "            if ik==0 and Nums[ij]<Acum[0]: # Caso cero\n",
    "                K.append(ik)\n",
    "            if ik>0 and Nums[ij]<Acum[ik] and Nums[ij]>Acum[ik-1]:\n",
    "                K.append(ik)\n",
    "            ik = ik + 1\n",
    "        ij = ij + 1\n",
    "    return K"
   ]
  },
  {
   "cell_type": "code",
   "execution_count": 8,
   "metadata": {},
   "outputs": [
    {
     "data": {
      "image/png": "[encoded data removed]",
      "text/plain": [
       "<Figure size 432x288 with 1 Axes>"
      ]
     },
     "metadata": {},
     "output_type": "display_data"
    }
   ],
   "source": [
    "# Ejemplo\n",
    "A = Poisson(lambd=4, N=3000)\n",
    "\n",
    "plt.hist(A, color='green', bins=50)\n",
    "plt.title('Histograma de elementos generados', fontsize=15)\n",
    "plt.xlabel('k', fontsize=15)\n",
    "plt.ylabel('Frecuencia', fontsize=15)\n",
    "plt.xlim(0,12);"
   ]
  },
  {
   "cell_type": "code",
   "execution_count": null,
   "metadata": {},
   "outputs": [],
   "source": []
  }
 ],
 "metadata": {
  "kernelspec": {
   "display_name": "Python 3",
   "language": "python",
   "name": "python3"
  },
  "language_info": {
   "codemirror_mode": {
    "name": "ipython",
    "version": 3
   },
   "file_extension": ".py",
   "mimetype": "text/x-python",
   "name": "python",
   "nbconvert_exporter": "python",
   "pygments_lexer": "ipython3",
   "version": "3.7.4"
  }
 },
 "nbformat": 4,
 "nbformat_minor": 2
}
